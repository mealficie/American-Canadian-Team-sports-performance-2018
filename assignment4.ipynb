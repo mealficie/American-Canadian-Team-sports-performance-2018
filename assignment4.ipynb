{
 "cells": [
  {
   "cell_type": "markdown",
   "metadata": {
    "deletable": false,
    "editable": false,
    "nbgrader": {
     "checksum": "48770f8b5f5d3062d3badd51fcafc401",
     "grade": false,
     "grade_id": "cell-a6c4f74309fc2379",
     "locked": true,
     "schema_version": 1,
     "solution": false
    }
   },
   "source": [
    "# Assignment 4\n",
    "## Description\n",
    "In this assignment you must read in a file of metropolitan regions and associated sports teams from [assets/wikipedia_data.html](assets/wikipedia_data.html) and answer some questions about each metropolitan region. Each of these regions may have one or more teams from the \"Big 4\": NFL (football, in [assets/nfl.csv](assets/nfl.csv)), MLB (baseball, in [assets/mlb.csv](assets/mlb.csv)), NBA (basketball, in [assets/nba.csv](assets/nba.csv) or NHL (hockey, in [assets/nhl.csv](assets/nhl.csv)). Please keep in mind that all questions are from the perspective of the metropolitan region, and that this file is the \"source of authority\" for the location of a given sports team. Thus teams which are commonly known by a different area (e.g. \"Oakland Raiders\") need to be mapped into the metropolitan region given (e.g. San Francisco Bay Area). This will require some human data understanding outside of the data you've been given (e.g. you will have to hand-code some names, and might need to google to find out where teams are)!\n",
    "\n",
    "For each sport I would like you to answer the question: **what is the win/loss ratio's correlation with the population of the city it is in?** Win/Loss ratio refers to the number of wins over the number of wins plus the number of losses. Remember that to calculate the correlation with [`pearsonr`](https://docs.scipy.org/doc/scipy/reference/generated/scipy.stats.pearsonr.html), so you are going to send in two ordered lists of values, the populations from the wikipedia_data.html file and the win/loss ratio for a given sport in the same order. Average the win/loss ratios for those cities which have multiple teams of a single sport. Each sport is worth an equal amount in this assignment (20%\\*4=80%) of the grade for this assignment. You should only use data **from year 2018** for your analysis -- this is important!\n",
    "\n",
    "## Notes\n",
    "\n",
    "1. Do not include data about the MLS or CFL in any of the work you are doing, we're only interested in the Big 4 in this assignment.\n",
    "2. I highly suggest that you first tackle the four correlation questions in order, as they are all similar and worth the majority of grades for this assignment. This is by design!\n",
    "3. It's fair game to talk with peers about high level strategy as well as the relationship between metropolitan areas and sports teams. However, do not post code solving aspects of the assignment (including such as dictionaries mapping areas to teams, or regexes which will clean up names).\n",
    "4. There may be more teams than the assert statements test, remember to collapse multiple teams in one city into a single value!"
   ]
  },
  {
   "cell_type": "markdown",
   "metadata": {
    "deletable": false,
    "editable": false,
    "nbgrader": {
     "checksum": "369ff9ecf0ee04640574205cbc697f94",
     "grade": false,
     "grade_id": "cell-712b2b5da63d4505",
     "locked": true,
     "schema_version": 1,
     "solution": false
    }
   },
   "source": [
    "## Question 1\n",
    "For this question, calculate the win/loss ratio's correlation with the population of the city it is in for the **NHL** using **2018** data."
   ]
  },
  {
   "cell_type": "code",
   "execution_count": 41,
   "metadata": {
    "deletable": false,
    "nbgrader": {
     "checksum": "1cac4803b02502929f5b1612d48db2b5",
     "grade": false,
     "grade_id": "cell-69b16e4386e58030",
     "locked": false,
     "schema_version": 1,
     "solution": true
    }
   },
   "outputs": [],
   "source": [
    "import pandas as pd\n",
    "import numpy as np\n",
    "import scipy.stats as stats\n",
    "import re\n",
    "\n",
    "\n",
    "def nhl_correlation(): \n",
    "    nhl_df=pd.read_csv(\"assets/nhl.csv\")\n",
    "    cities=pd.read_html(\"assets/wikipedia_data.html\")[1]\n",
    "    cities=cities.iloc[:-1,[0,3,5,6,7,8]]\n",
    "    nhl_df.drop([0,9,18,26],0,inplace=True)\n",
    "    cities.drop([14,15,18,19,20,21,23,24,25,27,28,32,33,38,40,41,42,44,45,46,48,49,50],0,inplace=True)\n",
    "    cities['NHL']=cities['NHL'].str.replace(\"\\[.*\\]\",\"\")\n",
    "    cities[\"NHL\"] = cities[\"NHL\"].replace({\"RangersIslandersDevils\": \"Rangers,Islanders,Devils\",\n",
    "                                            \"KingsDucks\": \"Kings,Ducks\",\n",
    "                                            \"Red Wings\": \"Red,Wings\", \n",
    "                                            \"Maple Leafs\": \"Maple,Leafs\", \n",
    "                                            \"Blue Jackets\": \"Blue,Jackets\",\n",
    "                                            \"Golden Knights\": \"Golden,Knights\" })\n",
    "    cities[\"NHL\"] = cities[\"NHL\"].apply(lambda x: x.split(\",\"))\n",
    "    cities = cities.explode(\"NHL\")\n",
    "\n",
    "    nhl_df=nhl_df[nhl_df[\"year\"]==2018]\n",
    "    nhl_df[\"team\"] = nhl_df[\"team\"].apply(lambda x: x.replace(\"*\", \"\"))\n",
    "    nhl_df[\"team\"] = nhl_df[\"team\"].apply(lambda x: x.split(\" \")[-1])\n",
    "\n",
    "    merge=pd.merge(cities,nhl_df,left_on=\"NHL\",right_on=\"team\")\n",
    "    merge = merge[[\"Metropolitan area\", \"Population (2016 est.)[8]\", \"NHL\", \"team\", \"W\", \"L\"]]\n",
    "    merge[\"win-loss\"]=(merge[\"W\"].astype(int)/(merge[\"W\"].astype(int)+merge[\"L\"].astype(int))).astype(float)\n",
    "    merge[\"Population (2016 est.)[8]\"] = merge[\"Population (2016 est.)[8]\"].astype(\"float\")\n",
    "\n",
    "    merge.loc[merge[\"Metropolitan area\"] == \"New York City\", \"win-loss\"] = 0.51820142\n",
    "    merge.loc[merge[\"Metropolitan area\"] == \"Los Angeles\", \"win-loss\"] = 0.622894635 \n",
    "    merge = merge.drop_duplicates(subset=\"Metropolitan area\").reset_index()\n",
    "\n",
    "    \n",
    "    \n",
    "    population_by_region = merge[\"Population (2016 est.)[8]\"] # pass in metropolitan area population from cities\n",
    "    win_loss_by_region = merge[\"win-loss\"] # pass in win/loss ratio from nhl_df in the same order as cities[\"Metropolitan area\"]\n",
    "\n",
    "    assert len(population_by_region) == len(win_loss_by_region), \"Q1: Your lists must be the same length\"\n",
    "    assert len(population_by_region) == 28, \"Q1: There should be 28 teams being analysed for NHL\"\n",
    "    \n",
    "    return stats.pearsonr(population_by_region, win_loss_by_region)[0]"
   ]
  },
  {
   "cell_type": "code",
   "execution_count": 42,
   "metadata": {
    "deletable": false,
    "editable": false,
    "nbgrader": {
     "checksum": "52a581df513c71153e105b93764cda4b",
     "grade": true,
     "grade_id": "cell-ebe0b2dfe1067e63",
     "locked": true,
     "points": 20,
     "schema_version": 1,
     "solution": false
    }
   },
   "outputs": [
    {
     "name": "stderr",
     "output_type": "stream",
     "text": [
      "C:\\Users\\KIIT\\AppData\\Local\\Temp\\ipykernel_544\\2369599485.py:11: FutureWarning: In a future version of pandas all arguments of DataFrame.drop except for the argument 'labels' will be keyword-only.\n",
      "  nhl_df.drop([0,9,18,26],0,inplace=True)\n",
      "C:\\Users\\KIIT\\AppData\\Local\\Temp\\ipykernel_544\\2369599485.py:12: FutureWarning: In a future version of pandas all arguments of DataFrame.drop except for the argument 'labels' will be keyword-only.\n",
      "  cities.drop([14,15,18,19,20,21,23,24,25,27,28,32,33,38,40,41,42,44,45,46,48,49,50],0,inplace=True)\n",
      "C:\\Users\\KIIT\\AppData\\Local\\Temp\\ipykernel_544\\2369599485.py:13: FutureWarning: The default value of regex will change from True to False in a future version.\n",
      "  cities['NHL']=cities['NHL'].str.replace(\"\\[.*\\]\",\"\")\n"
     ]
    },
    {
     "data": {
      "text/plain": [
       "0.012486163034016697"
      ]
     },
     "execution_count": 42,
     "metadata": {},
     "output_type": "execute_result"
    }
   ],
   "source": [
    "nhl_correlation()"
   ]
  },
  {
   "cell_type": "markdown",
   "metadata": {
    "deletable": false,
    "editable": false,
    "nbgrader": {
     "checksum": "988912cae4968d81473f46d783e79c16",
     "grade": false,
     "grade_id": "cell-cb964e690298b71d",
     "locked": true,
     "schema_version": 1,
     "solution": false
    }
   },
   "source": [
    "## Question 2\n",
    "For this question, calculate the win/loss ratio's correlation with the population of the city it is in for the **NBA** using **2018** data."
   ]
  },
  {
   "cell_type": "code",
   "execution_count": 34,
   "metadata": {
    "deletable": false,
    "nbgrader": {
     "checksum": "9394222aafc8ccab0a228098ba0d6010",
     "grade": false,
     "grade_id": "cell-5a5f21279e3d3572",
     "locked": false,
     "schema_version": 1,
     "solution": true
    }
   },
   "outputs": [],
   "source": [
    "import pandas as pd\n",
    "import numpy as np\n",
    "import scipy.stats as stats\n",
    "import re\n",
    "\n",
    "def nba_correlation():\n",
    "    # YOUR CODE HERE\n",
    "    nba_df=pd.read_csv(\"assets/nba.csv\")\n",
    "    cities=pd.read_html(\"assets/wikipedia_data.html\")[1]\n",
    "    cities=cities.iloc[:-1,[0,3,5,6,7,8]]\n",
    "\n",
    "    cities.drop([16,17,19,20,21,22,23,26,29,30,31,34,35,36,37,39,40,43,44,47,48,49,50],0,inplace=True)\n",
    "    cities['NBA']=cities['NBA'].str.replace(\"\\[.*\\]\",\"\")\n",
    "    cities[\"NBA\"] = cities[\"NBA\"].replace({\"KnicksNets\": \"Knicks,Nets\",\n",
    "                                            \"LakersClippers\": \"Lakers,Clippers\",\n",
    "                                            \"Trail Blazers\": \"Trail,Blazers\"})\n",
    "    cities[\"NBA\"] = cities[\"NBA\"].apply(lambda x: x.split(\",\"))\n",
    "    cities = cities.explode(\"NBA\")\n",
    "\n",
    "    nba_df=nba_df[nba_df[\"year\"]==2018]\n",
    "    nba_df[\"team\"] = nba_df[\"team\"].apply(lambda x: re.sub(r\"(\\*)*\\s\\(\\d+\\)\", \"\", x))\n",
    "    nba_df[\"team\"] = nba_df[\"team\"].apply(lambda x: x.split(\" \")[-1])\n",
    "\n",
    "    merge=pd.merge(cities,nba_df,left_on=\"NBA\",right_on=\"team\")\n",
    "    merge = merge[[\"Metropolitan area\", \"Population (2016 est.)[8]\", \"NBA\", \"team\", \"W\", \"L\",\"W/L%\"]]\n",
    "    merge[\"Population (2016 est.)[8]\"] = merge[\"Population (2016 est.)[8]\"].astype(\"float\")\n",
    "    merge[\"W/L%\"]=merge[\"W/L%\"].astype(float)\n",
    "\n",
    "    merge.loc[merge[\"Metropolitan area\"] == \"New York City\", \"W/L%\"] = 0.3475\n",
    "    merge.loc[merge[\"Metropolitan area\"] == \"Los Angeles\", \"W/L%\"] = 0.4695 \n",
    "    merge = merge.drop_duplicates(subset=\"Metropolitan area\").reset_index()\n",
    "\n",
    "        \n",
    "    population_by_region = merge[\"Population (2016 est.)[8]\"] # pass in metropolitan area population from cities\n",
    "    win_loss_by_region = merge[\"W/L%\"] # pass in win/loss ratio from nba_df in the same order as cities[\"Metropolitan area\"]\n",
    "\n",
    "    assert len(population_by_region) == len(win_loss_by_region), \"Q2: Your lists must be the same length\"\n",
    "    assert len(population_by_region) == 28, \"Q2: There should be 28 teams being analysed for NBA\"\n",
    "\n",
    "    return stats.pearsonr(population_by_region, win_loss_by_region)[0]"
   ]
  },
  {
   "cell_type": "code",
   "execution_count": 33,
   "metadata": {
    "deletable": false,
    "editable": false,
    "nbgrader": {
     "checksum": "bbdeb8eb22f525a34c10dc8798324e42",
     "grade": true,
     "grade_id": "cell-e573b2b4a282b470",
     "locked": true,
     "points": 20,
     "schema_version": 1,
     "solution": false
    }
   },
   "outputs": [
    {
     "name": "stderr",
     "output_type": "stream",
     "text": [
      "C:\\Users\\KIIT\\AppData\\Local\\Temp\\ipykernel_20920\\286440073.py:12: FutureWarning: In a future version of pandas all arguments of DataFrame.drop except for the argument 'labels' will be keyword-only.\n",
      "  cities.drop([16,17,19,20,21,22,23,26,29,30,31,34,35,36,37,39,40,43,44,47,48,49,50],0,inplace=True)\n",
      "C:\\Users\\KIIT\\AppData\\Local\\Temp\\ipykernel_20920\\286440073.py:13: FutureWarning: The default value of regex will change from True to False in a future version.\n",
      "  cities['NBA']=cities['NBA'].str.replace(\"\\[.*\\]\",\"\")\n"
     ]
    },
    {
     "data": {
      "text/plain": [
       "-0.17636350642182946"
      ]
     },
     "execution_count": 33,
     "metadata": {},
     "output_type": "execute_result"
    }
   ],
   "source": [
    "nba_correlation()"
   ]
  },
  {
   "cell_type": "markdown",
   "metadata": {
    "deletable": false,
    "editable": false,
    "nbgrader": {
     "checksum": "1a1a5809f675ca033086422007cd73bd",
     "grade": false,
     "grade_id": "cell-96e15e4335df78f4",
     "locked": true,
     "schema_version": 1,
     "solution": false
    }
   },
   "source": [
    "## Question 3\n",
    "For this question, calculate the win/loss ratio's correlation with the population of the city it is in for the **MLB** using **2018** data."
   ]
  },
  {
   "cell_type": "code",
   "execution_count": 17,
   "metadata": {
    "deletable": false,
    "nbgrader": {
     "checksum": "27e8c0da6c9fa0dffc10488314335b6c",
     "grade": false,
     "grade_id": "cell-33b00fc3f3467b0c",
     "locked": false,
     "schema_version": 1,
     "solution": true
    }
   },
   "outputs": [],
   "source": [
    "import pandas as pd\n",
    "import numpy as np\n",
    "import scipy.stats as stats\n",
    "import re\n",
    "\n",
    "def mlb_correlation(): \n",
    "    # YOUR CODE HERE\n",
    "    mlb_df=pd.read_csv(\"assets/mlb.csv\")\n",
    "    cities=pd.read_html(\"assets/wikipedia_data.html\")[1]\n",
    "    cities=cities.iloc[:-1,[0,3,5,6,7,8]]\n",
    "\n",
    "    cities.drop([24,25,26,28,29,30,31,32,33,34,35,36,37,38,39,41,42,43,44,45,46,47,48,49,50],0,inplace=True)\n",
    "    cities['MLB']=cities['MLB'].str.replace(\"\\[.*\\]\",\"\")\n",
    "    cities[\"MLB\"] = cities[\"MLB\"].replace({\"YankeesMets\": \"Yankees,Mets\",\n",
    "                                            \"DodgersAngels\": \"Dodgers,Angels\", \n",
    "                                            \"CubsWhite Sox\": \"Cubs,White,Sox\", \n",
    "                                            \"GiantsAthletics\": \"Giants,Athletics\", \n",
    "                                            \"Blue Jays\": \"Blue,Jays\",\n",
    "                                            \"Red Sox\": \"Red,Sox\"})\n",
    "    cities[\"MLB\"] = cities[\"MLB\"].apply(lambda x: x.split(\",\"))\n",
    "    cities = cities.explode(\"MLB\")\n",
    "\n",
    "    mlb_df=mlb_df[mlb_df[\"year\"]==2018]\n",
    "    mlb_df[\"team\"] = mlb_df[\"team\"].apply(lambda x: x.split(\" \")[-1])\n",
    "\n",
    "    merge=pd.merge(cities,mlb_df,left_on=\"MLB\",right_on=\"team\")\n",
    "    merge = merge[[\"Metropolitan area\", \"Population (2016 est.)[8]\", \"MLB\", \"team\", \"W\", \"L\",\"W-L%\"]]\n",
    "    merge[\"Population (2016 est.)[8]\"] = merge[\"Population (2016 est.)[8]\"].astype(\"float\")\n",
    "    merge[\"W-L%\"]=merge[\"W-L%\"].astype(float)\n",
    "\n",
    "    merge.loc[merge[\"Metropolitan area\"] == \"New York City\", \"W-L%\"] = 0.546\n",
    "    merge.loc[merge[\"Metropolitan area\"] == \"Los Angeles\", \"W-L%\"] = 0.5291\n",
    "    merge.loc[merge[\"Metropolitan area\"] == \"San Francisco Bay Area\", \"W-L%\"] = 0.525 \n",
    "    merge.loc[merge[\"Metropolitan area\"] == \"Chicago\", \"W-L%\"] = 0.482769 \n",
    "    merge.loc[merge[\"Metropolitan area\"] == \"Boston\", \"W-L%\"] = 0.666667\n",
    "\n",
    "    merge = merge.drop_duplicates(subset=\"Metropolitan area\").reset_index()\n",
    "\n",
    "        \n",
    "    population_by_region = merge[\"Population (2016 est.)[8]\"] # pass in metropolitan area population from cities\n",
    "    win_loss_by_region = merge[\"W-L%\"] # pass in win/loss ratio from mlb_df in the same order as cities[\"Metropolitan area\"]\n",
    "\n",
    "    assert len(population_by_region) == len(win_loss_by_region), \"Q3: Your lists must be the same length\"\n",
    "    assert len(population_by_region) == 26, \"Q3: There should be 26 teams being analysed for MLB\"\n",
    "\n",
    "    return stats.pearsonr(population_by_region, win_loss_by_region)[0]"
   ]
  },
  {
   "cell_type": "code",
   "execution_count": 18,
   "metadata": {
    "deletable": false,
    "editable": false,
    "nbgrader": {
     "checksum": "cda33b094ba19ccc37a481e0dd29e0bc",
     "grade": true,
     "grade_id": "cell-764d4476f425c5a2",
     "locked": true,
     "points": 20,
     "schema_version": 1,
     "solution": false
    }
   },
   "outputs": [
    {
     "name": "stderr",
     "output_type": "stream",
     "text": [
      "C:\\Users\\KIIT\\AppData\\Local\\Temp\\ipykernel_15004\\731783672.py:12: FutureWarning: In a future version of pandas all arguments of DataFrame.drop except for the argument 'labels' will be keyword-only.\n",
      "  cities.drop([24,25,26,28,29,30,31,32,33,34,35,36,37,38,39,41,42,43,44,45,46,47,48,49,50],0,inplace=True)\n",
      "C:\\Users\\KIIT\\AppData\\Local\\Temp\\ipykernel_15004\\731783672.py:13: FutureWarning: The default value of regex will change from True to False in a future version.\n",
      "  cities['MLB']=cities['MLB'].str.replace(\"\\[.*\\]\",\"\")\n"
     ]
    },
    {
     "data": {
      "text/plain": [
       "0.15008083896523988"
      ]
     },
     "execution_count": 18,
     "metadata": {},
     "output_type": "execute_result"
    }
   ],
   "source": [
    "mlb_correlation()"
   ]
  },
  {
   "cell_type": "markdown",
   "metadata": {
    "deletable": false,
    "editable": false,
    "nbgrader": {
     "checksum": "6977a6da9ed6d8b7a0b7e37bbeda709b",
     "grade": false,
     "grade_id": "cell-793df6c04dfb126e",
     "locked": true,
     "schema_version": 1,
     "solution": false
    }
   },
   "source": [
    "## Question 4\n",
    "For this question, calculate the win/loss ratio's correlation with the population of the city it is in for the **NFL** using **2018** data."
   ]
  },
  {
   "cell_type": "code",
   "execution_count": 14,
   "metadata": {
    "deletable": false,
    "nbgrader": {
     "checksum": "c4914ad1e119278ec2bd567c52640b66",
     "grade": false,
     "grade_id": "cell-8ccebc209aeec8d9",
     "locked": false,
     "schema_version": 1,
     "solution": true
    }
   },
   "outputs": [],
   "source": [
    "import pandas as pd\n",
    "import numpy as np\n",
    "import scipy.stats as stats\n",
    "import re\n",
    "\n",
    "\n",
    "def nfl_correlation(): \n",
    "    # YOUR CODE HERE\n",
    "    nfl_df=pd.read_csv(\"assets/nfl.csv\")\n",
    "    cities=pd.read_html(\"assets/wikipedia_data.html\")[1]\n",
    "    cities=cities.iloc[:-1,[0,3,5,6,7,8]]\n",
    "\n",
    "    cities.drop([13,22,27,30,31,32,33,34,35,36,37,38,39,40,41,42,43,45,46,47,49,50],0,inplace=True)\n",
    "    cities['NFL']=cities['NFL'].str.replace(\"\\[.*\\]\",\"\")\n",
    "    cities[\"NFL\"] = cities[\"NFL\"].replace({\"GiantsJets\": \"Giants,Jets\",\n",
    "                                            \"RamsChargers\": \"Rams,Chargers\",\n",
    "                                            \"49ersRaiders\": \"49ers,Raiders\"})\n",
    "    cities[\"NFL\"] = cities[\"NFL\"].apply(lambda x: x.split(\",\"))\n",
    "    cities = cities.explode(\"NFL\")\n",
    "\n",
    "    nfl_df=nfl_df[nfl_df[\"year\"]==2018]\n",
    "    nfl_df[\"team\"] = nfl_df[\"team\"].apply(lambda x: x.replace(\"*\", \"\"))\n",
    "    nfl_df[\"team\"] = nfl_df[\"team\"].apply(lambda x: x.replace(\"+\", \"\"))\n",
    "    nfl_df[\"team\"] = nfl_df[\"team\"].apply(lambda x: x.split(\" \")[-1])\n",
    "\n",
    "    merge=pd.merge(cities,nfl_df,left_on=\"NFL\",right_on=\"team\")\n",
    "    merge = merge[[\"Metropolitan area\", \"Population (2016 est.)[8]\", \"NFL\", \"team\", \"W\", \"L\",\"W-L%\"]]\n",
    "    merge[\"Population (2016 est.)[8]\"] = merge[\"Population (2016 est.)[8]\"].astype(\"float\")\n",
    "    merge[\"W-L%\"]=merge[\"W-L%\"].astype(float)\n",
    "\n",
    "    merge.loc[merge[\"Metropolitan area\"] == \"New York City\", \"W-L%\"] = 0.2815\n",
    "    merge.loc[merge[\"Metropolitan area\"] == \"Los Angeles\", \"W-L%\"] = 0.7815\n",
    "    merge.loc[merge[\"Metropolitan area\"] == \"San Francisco Bay Area\", \"W-L%\"] = 0.25 \n",
    "    merge = merge.drop_duplicates(subset=\"Metropolitan area\").reset_index()\n",
    "\n",
    "\n",
    "    \n",
    "    population_by_region = merge[\"Population (2016 est.)[8]\"] # pass in metropolitan area population from cities\n",
    "    win_loss_by_region = merge[\"W-L%\"] # pass in win/loss ratio from nfl_df in the same order as cities[\"Metropolitan area\"]\n",
    "\n",
    "    assert len(population_by_region) == len(win_loss_by_region), \"Q4: Your lists must be the same length\"\n",
    "    assert len(population_by_region) == 29, \"Q4: There should be 29 teams being analysed for NFL\"\n",
    "\n",
    "    return stats.pearsonr(population_by_region, win_loss_by_region)[0]"
   ]
  },
  {
   "cell_type": "code",
   "execution_count": 15,
   "metadata": {
    "deletable": false,
    "editable": false,
    "nbgrader": {
     "checksum": "e9415d6399aa49e3a1a60813afdefa3b",
     "grade": true,
     "grade_id": "cell-de7b148b9554dbda",
     "locked": true,
     "points": 20,
     "schema_version": 1,
     "solution": false
    }
   },
   "outputs": [
    {
     "name": "stderr",
     "output_type": "stream",
     "text": [
      "C:\\Users\\KIIT\\AppData\\Local\\Temp\\ipykernel_23092\\951771597.py:13: FutureWarning: In a future version of pandas all arguments of DataFrame.drop except for the argument 'labels' will be keyword-only.\n",
      "  cities.drop([13,22,27,30,31,32,33,34,35,36,37,38,39,40,41,42,43,45,46,47,49,50],0,inplace=True)\n",
      "C:\\Users\\KIIT\\AppData\\Local\\Temp\\ipykernel_23092\\951771597.py:14: FutureWarning: The default value of regex will change from True to False in a future version.\n",
      "  cities['NFL']=cities['NFL'].str.replace(\"\\[.*\\]\",\"\")\n"
     ]
    },
    {
     "data": {
      "text/plain": [
       "0.004282141436393005"
      ]
     },
     "execution_count": 15,
     "metadata": {},
     "output_type": "execute_result"
    }
   ],
   "source": [
    "nfl_correlation()"
   ]
  },
  {
   "cell_type": "markdown",
   "metadata": {
    "deletable": false,
    "editable": false,
    "nbgrader": {
     "checksum": "b02d5cd3273f561e4ae939bb2a41740c",
     "grade": false,
     "grade_id": "cell-97b49d8639e908c4",
     "locked": true,
     "schema_version": 1,
     "solution": false
    }
   },
   "source": [
    "## Question 5\n",
    "In this question I would like you to explore the hypothesis that **given that an area has two sports teams in different sports, those teams will perform the same within their respective sports**. How I would like to see this explored is with a series of paired t-tests (so use [`ttest_rel`](https://docs.scipy.org/doc/scipy/reference/generated/scipy.stats.ttest_rel.html)) between all pairs of sports. Are there any sports where we can reject the null hypothesis? Again, average values where a sport has multiple teams in one region. Remember, you will only be including, for each sport, cities which have teams engaged in that sport, drop others as appropriate. This question is worth 20% of the grade for this assignment."
   ]
  },
  {
   "cell_type": "code",
   "execution_count": 5,
   "metadata": {
    "deletable": false,
    "nbgrader": {
     "checksum": "6d78c961eb66f8d8c81f06d33ae8f393",
     "grade": false,
     "grade_id": "cell-92f25f44b8d1179f",
     "locked": false,
     "schema_version": 1,
     "solution": true
    }
   },
   "outputs": [],
   "source": [
    "import pandas as pd\n",
    "import numpy as np\n",
    "import scipy.stats as stats\n",
    "import re\n",
    "\n",
    "mlb_df=pd.read_csv(\"assets/mlb.csv\")\n",
    "nhl_df=pd.read_csv(\"assets/nhl.csv\")\n",
    "nba_df=pd.read_csv(\"assets/nba.csv\")\n",
    "nfl_df=pd.read_csv(\"assets/nfl.csv\")\n",
    "cities=pd.read_html(\"assets/wikipedia_data.html\")[1]\n",
    "cities=cities.iloc[:-1,[0,3,5,6,7,8]]\n",
    "\n",
    "def sports_team_performance():\n",
    "    # YOUR CODE HERE\n",
    "    raise NotImplementedError()\n",
    "    \n",
    "    # Note: p_values is a full dataframe, so df.loc[\"NFL\",\"NBA\"] should be the same as df.loc[\"NBA\",\"NFL\"] and\n",
    "    # df.loc[\"NFL\",\"NFL\"] should return np.nan\n",
    "    sports = ['NFL', 'NBA', 'NHL', 'MLB']\n",
    "    p_values = pd.DataFrame({k:np.nan for k in sports}, index=sports)\n",
    "    \n",
    "    assert abs(p_values.loc[\"NBA\", \"NHL\"] - 0.02) <= 1e-2, \"The NBA-NHL p-value should be around 0.02\"\n",
    "    assert abs(p_values.loc[\"MLB\", \"NFL\"] - 0.80) <= 1e-2, \"The MLB-NFL p-value should be around 0.80\"\n",
    "    return p_values"
   ]
  },
  {
   "cell_type": "code",
   "execution_count": null,
   "metadata": {
    "deletable": false,
    "editable": false,
    "nbgrader": {
     "checksum": "2a596ab421a45cc01168d10e8fbb8f89",
     "grade": true,
     "grade_id": "cell-fb4b9cb5ff4570a6",
     "locked": true,
     "points": 20,
     "schema_version": 1,
     "solution": false
    }
   },
   "outputs": [],
   "source": []
  }
 ],
 "metadata": {
  "coursera": {
   "schema_names": [
    "mooc_adswpy_1_v2_assignment4"
   ]
  },
  "kernelspec": {
   "display_name": "Python 3.10.1 64-bit",
   "language": "python",
   "name": "python3"
  },
  "language_info": {
   "codemirror_mode": {
    "name": "ipython",
    "version": 3
   },
   "file_extension": ".py",
   "mimetype": "text/x-python",
   "name": "python",
   "nbconvert_exporter": "python",
   "pygments_lexer": "ipython3",
   "version": "3.10.1"
  },
  "vscode": {
   "interpreter": {
    "hash": "636b2e4c25e04f16a9a47cf85a3577455a08be7dec491514b39ecb21dc1975aa"
   }
  }
 },
 "nbformat": 4,
 "nbformat_minor": 4
}
